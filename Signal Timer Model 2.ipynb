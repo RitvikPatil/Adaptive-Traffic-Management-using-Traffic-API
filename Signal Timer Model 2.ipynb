{
 "cells": [
  {
   "cell_type": "code",
   "execution_count": 4,
   "metadata": {},
   "outputs": [],
   "source": [
    "import requests\n",
    "import json"
   ]
  },
  {
   "cell_type": "code",
   "execution_count": 8,
   "metadata": {},
   "outputs": [],
   "source": [
    "r1 = requests.get(\"https://api.tomtom.com/traffic/services/4/flowSegmentData/absolute/10/json?key=RULuaXNqAe3ApgFdVB4cjvIbMhS2SAbT&point=18.550136,73.809592\")\n",
    "\n",
    "r2 = requests.get(\"https://atlas.microsoft.com/traffic/flow/segment/json?subscription-key=FYrjtguP75ow4gzcpP3YazY0vHn3Y8jjgXStfigwkOE&api-version=1.0&style=absolute&zoom=10&query=18.550136,73.809592&unit=KMPH\")\n",
    "\n",
    "#&thickness=5&openLr={openLr}"
   ]
  },
  {
   "cell_type": "code",
   "execution_count": 9,
   "metadata": {},
   "outputs": [
    {
     "name": "stdout",
     "output_type": "stream",
     "text": [
      "{\"flowSegmentData\":{\"frc\":\"FRC4\",\"currentSpeed\":25,\"freeFlowSpeed\":25,\"currentTravelTime\":51,\"freeFlowTravelTime\":51,\"confidence\":0.9700000286102295,\"roadClosure\":false,\"coordinates\":{\"coordinate\":[{\"latitude\":18.553240822816775,\"longitude\":73.80963784964047},{\"latitude\":18.55302086958285,\"longitude\":73.80963650853596},{\"latitude\":18.552641274769407,\"longitude\":73.80962980301342},{\"latitude\":18.552276538744294,\"longitude\":73.80961773307286},{\"latitude\":18.552229575944562,\"longitude\":73.80961639196835},{\"latitude\":18.552155833992686,\"longitude\":73.80961370975933},{\"latitude\":18.552027103353833,\"longitude\":73.80960968644581},{\"latitude\":18.551827252817827,\"longitude\":73.8096083453413},{\"latitude\":18.551737379597956,\"longitude\":73.8096083453413},{\"latitude\":18.551274742345257,\"longitude\":73.80960163981877},{\"latitude\":18.550901898081957,\"longitude\":73.8096083453413},{\"latitude\":18.550209924942745,\"longitude\":73.80960566313229},{\"latitude\":18.550130778548297,\"longitude\":73.8096070042368},{\"latitude\":18.550089218730104,\"longitude\":73.8096070042368},{\"latitude\":18.55004757943746,\"longitude\":73.80960432202778},{\"latitude\":18.550000695488944,\"longitude\":73.80960432202778}]},\"@version\":\"traffic-service 3.2.005\"}}\n",
      "\n",
      "{\"flowSegmentData\":{\"frc\":\"FRC4\",\"currentSpeed\":25,\"freeFlowSpeed\":25,\"currentTravelTime\":51,\"freeFlowTravelTime\":51,\"confidence\":0.9700000286102295,\"roadClosure\":false,\"coordinates\":{\"coordinate\":[{\"latitude\":18.553240822816775,\"longitude\":73.80963784964047},{\"latitude\":18.55302086958285,\"longitude\":73.80963650853596},{\"latitude\":18.552641274769407,\"longitude\":73.80962980301342},{\"latitude\":18.552276538744294,\"longitude\":73.80961773307286},{\"latitude\":18.552229575944562,\"longitude\":73.80961639196835},{\"latitude\":18.552155833992686,\"longitude\":73.80961370975933},{\"latitude\":18.552027103353833,\"longitude\":73.80960968644581},{\"latitude\":18.551827252817827,\"longitude\":73.8096083453413},{\"latitude\":18.551737379597956,\"longitude\":73.8096083453413},{\"latitude\":18.551274742345257,\"longitude\":73.80960163981877},{\"latitude\":18.550901898081957,\"longitude\":73.8096083453413},{\"latitude\":18.550209924942745,\"longitude\":73.80960566313229},{\"latitude\":18.550130778548297,\"longitude\":73.8096070042368},{\"latitude\":18.550089218730104,\"longitude\":73.8096070042368},{\"latitude\":18.55004757943746,\"longitude\":73.80960432202778},{\"latitude\":18.550000695488944,\"longitude\":73.80960432202778}]},\"@version\":\"traffic-service 3.2.005\"}}\n"
     ]
    }
   ],
   "source": [
    "# print(r.url)\n",
    "print(r1.text)\n",
    "print()\n",
    "\n",
    "print(r2.text)\n"
   ]
  },
  {
   "cell_type": "code",
   "execution_count": 7,
   "metadata": {},
   "outputs": [
    {
     "name": "stdout",
     "output_type": "stream",
     "text": [
      "25\n"
     ]
    }
   ],
   "source": [
    "# Need to access currentSpeed!!\n",
    "\n",
    "a = json.loads(r.text)\n",
    "print(a[\"flowSegmentData\"][\"currentSpeed\"])\n"
   ]
  },
  {
   "cell_type": "code",
   "execution_count": null,
   "metadata": {},
   "outputs": [],
   "source": []
  }
 ],
 "metadata": {
  "kernelspec": {
   "display_name": "Python 3",
   "language": "python",
   "name": "python3"
  },
  "language_info": {
   "codemirror_mode": {
    "name": "ipython",
    "version": 3
   },
   "file_extension": ".py",
   "mimetype": "text/x-python",
   "name": "python",
   "nbconvert_exporter": "python",
   "pygments_lexer": "ipython3",
   "version": "3.7.4"
  }
 },
 "nbformat": 4,
 "nbformat_minor": 2
}
