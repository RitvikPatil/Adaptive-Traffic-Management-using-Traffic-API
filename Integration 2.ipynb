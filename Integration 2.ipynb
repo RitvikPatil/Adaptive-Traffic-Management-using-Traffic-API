{
 "cells": [
  {
   "cell_type": "code",

   "metadata": {},
   "outputs": [],
   "source": [
    "import numpy\n",
    "from random import randint\n",
    "import time\n",
    "import requests\n",
    "import json"
   ]
  },
  {
   "cell_type": "code",

   "metadata": {},
   "outputs": [],
   "source": [
    "# This function will divide the signal timers proportional to the traffic density\n",
    "\n",
    "def SignalDensity():\n",
    "    \n",
    "    \n",
    "    # Fetching traffic flow data from Parihar Chowk, Aundh, Pune\n",
    "    # Using AZURE MAPS Traffic API\n",
    "    \n",
    "    # Road 1 Coordinates: 18.560564,73.809573\n",
    "    # Road 2 Coordinates: 18.560421,73.809124\n",
    "    # Road 3 Coordinates: 18.560638,73.808933\n",
    "    # Road 4 Coordinates: 18.560969,73.809383\n",
    "    \n",
    "    \n",
    "    r1 = requests.get(\"https://atlas.microsoft.com/traffic/flow/segment/json?subscription-key=FYrjtguP75ow4gzcpP3YazY0vHn3Y8jjgXStfigwkOE&api-version=1.0&style=absolute&zoom=10&query=18.560564,73.809573&unit=KMPH\")\n",
    "    r2 = requests.get(\"https://atlas.microsoft.com/traffic/flow/segment/json?subscription-key=FYrjtguP75ow4gzcpP3YazY0vHn3Y8jjgXStfigwkOE&api-version=1.0&style=absolute&zoom=10&query=18.560421,73.809124&unit=KMPH\")\n",
    "    r3 = requests.get(\"https://atlas.microsoft.com/traffic/flow/segment/json?subscription-key=FYrjtguP75ow4gzcpP3YazY0vHn3Y8jjgXStfigwkOE&api-version=1.0&style=absolute&zoom=10&query=18.560638,73.808933&unit=KMPH\")\n",
    "    r4 = requests.get(\"https://atlas.microsoft.com/traffic/flow/segment/json?subscription-key=FYrjtguP75ow4gzcpP3YazY0vHn3Y8jjgXStfigwkOE&api-version=1.0&style=absolute&zoom=10&query=18.560969,73.809383&unit=KMPH\")\n",
    "\n",
    "    \n",
    "    # Takes the required traffic flow speed data from the JSON file\n",
    "    \n",
    "    a1 = json.loads(r1.text)\n",
    "    road_flow_1 = a1[\"flowSegmentData\"][\"currentSpeed\"]\n",
    "    \n",
    "    a2 = json.loads(r2.text)\n",
    "    road_flow_2 = a2[\"flowSegmentData\"][\"currentSpeed\"]\n",
    "    \n",
    "    a3 = json.loads(r3.text)\n",
    "    road_flow_3 = a3[\"flowSegmentData\"][\"currentSpeed\"]\n",
    "    \n",
    "    a4 = json.loads(r4.text)\n",
    "    road_flow_4 = a4[\"flowSegmentData\"][\"currentSpeed\"]\n",
    "    \n",
    "    \n",
    "    print(\"Traffic Flow Speed (Road 1) : \" + str(road_flow_1) + \"kmph\")\n",
    "    print(\"Traffic Flow Speed (Road 2) : \" + str(road_flow_2) + \"kmph\")\n",
    "    print(\"Traffic Flow Speed (Road 3) : \" + str(road_flow_3) + \"kmph\")\n",
    "    print(\"Traffic Flow Speed (Road 4) : \" + str(road_flow_4) + \"kmph\")\n",
    "    print()\n",
    "    \n",
    "    \n",
    "    signal_density_1 = 1/road_flow_1\n",
    "    signal_density_2 = 1/road_flow_2\n",
    "    signal_density_3 = 1/road_flow_3\n",
    "    signal_density_4 = 1/road_flow_4\n",
    "    \n",
    "    \n",
    "    sum_signal_density = signal_density_1 + signal_density_2 + signal_density_3 + signal_density_4  \n",
    "        \n",
    "    \n",
    "    ratio_1 = format(signal_density_1/sum_signal_density,\".2f\")\n",
    "    ratio_2 = format(signal_density_2/sum_signal_density,\".2f\")\n",
    "    ratio_3 = format(signal_density_3/sum_signal_density,\".2f\")\n",
    "    ratio_4 = format(signal_density_4/sum_signal_density,\".2f\")\n",
    "\n",
    "    '''\n",
    "    print(\"Time For Signal 1 : \" + str(ratio_1))\n",
    "    print(\"Time For Signal 2 : \" + str(ratio_2))\n",
    "    print(\"Time For Signal 3 : \" + str(ratio_3))\n",
    "    print(\"Time For Signal 4 : \" + str(ratio_4))\n",
    "    print()\n",
    "    '''\n",
    "    \n",
    "    # Let us consider that all the Signal Timers need to divided into a ratio such that they add up to a total of 2 min (120 sec)\n",
    "    # Here 2 min is the cycle time during which a signal is operational atleast once\n",
    "    \n",
    "    \n",
    "    Actual_Time_1 = 120.00 * float(ratio_1)\n",
    "    Actual_Time_2 = 120.00 * float(ratio_2)\n",
    "    Actual_Time_3 = 120.00 * float(ratio_3)\n",
    "    Actual_Time_4 = 120.00 * float(ratio_4)\n",
    "    \n",
    "    print(\"Signal 1 Running For \" + str(Actual_Time_1) + \" Seconds\")\n",
    "    time.sleep(Actual_Time_1);\n",
    "    \n",
    "    print(\"Signal 2 Running For \" + str(Actual_Time_2) + \" Seconds\")\n",
    "    time.sleep(Actual_Time_2);\n",
    "    \n",
    "    print(\"Signal 3 Running For \" + str(Actual_Time_3) + \" Seconds\")\n",
    "    time.sleep(Actual_Time_3);\n",
    "    \n",
    "    print(\"Signal 4 Running For \" + str(Actual_Time_4) + \" Seconds\")\n",
    "    time.sleep(Actual_Time_4);\n"
   ]
  },
  {
   "cell_type": "code",

   "metadata": {},
   "outputs": [
    {
     "name": "stdout",
     "output_type": "stream",
     "text": [

     ]
    }
   ],
   "source": [
    "# This function can be iterated periodically to update the signal the signal timer\n",
    "\n",
    "SignalDensity()\n"
   ]
  },
  {
   "cell_type": "code",
   "execution_count": null,
   "metadata": {},
   "outputs": [],
   "source": []
  }
 ],
 "metadata": {
  "kernelspec": {
   "display_name": "Python 3",
   "language": "python",
   "name": "python3"
  },
  "language_info": {
   "codemirror_mode": {
    "name": "ipython",
    "version": 3
   },
   "file_extension": ".py",
   "mimetype": "text/x-python",
   "name": "python",
   "nbconvert_exporter": "python",
   "pygments_lexer": "ipython3",
   "version": "3.7.4"
  }
 },
 "nbformat": 4,
 "nbformat_minor": 2
}
