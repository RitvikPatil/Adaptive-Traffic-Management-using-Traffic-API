{
  "nbformat": 4,
  "nbformat_minor": 0,
  "metadata": {
    "kernelspec": {
      "display_name": "Python 3",
      "language": "python",
      "name": "python3"
    },
    "language_info": {
      "codemirror_mode": {
        "name": "ipython",
        "version": 3
      },
      "file_extension": ".py",
      "mimetype": "text/x-python",
      "name": "python",
      "nbconvert_exporter": "python",
      "pygments_lexer": "ipython3",
      "version": "3.7.4"
    },
    "colab": {
      "name": "Signal Timer Model 1.ipynb",
      "provenance": []
    }
  },
  "cells": [
    {
      "cell_type": "code",
      "metadata": {
        "id": "vTUIswNkPQSd",
        "colab_type": "code",
        "colab": {}
      },
      "source": [
        "import numpy\n",
        "from random import randint\n",
        "import time\n",
        "#import threading"
      ],
      "execution_count": 0,
      "outputs": []
    },
    {
      "cell_type": "code",
      "metadata": {
        "id": "Ho4fL8ozPQSp",
        "colab_type": "code",
        "colab": {}
      },
      "source": [
        "def SignalDensity():\n",
        "\n",
        "    # Consider a 4 way crossroad, with 4 signals\n",
        "    # Random number generator will basically give us the traffic density (on a scale of 0 to 10)\n",
        "    # This scale will actually be reading from a API\n",
        "    \n",
        "    signal_density_1 = randint(0,10)\n",
        "    signal_density_2 = randint(0,10)\n",
        "    signal_density_3 = randint(0,10)\n",
        "    signal_density_4 = randint(0,10)\n",
        "    \n",
        "    print(\"Density Scale Reading (Signal 1) : \" + str(signal_density_1))\n",
        "    print(\"Density Scale Reading (Signal 2) : \" + str(signal_density_2))\n",
        "    print(\"Density Scale Reading (Signal 3) : \" + str(signal_density_3))\n",
        "    print(\"Density Scale Reading (Signal 4) : \" + str(signal_density_4))\n",
        "    print()\n",
        "    \n",
        "    sum_signal_density = signal_density_1 + signal_density_2 + signal_density_3 + signal_density_4  \n",
        "    \n",
        "    ratio_1 = format(signal_density_1/sum_signal_density,\".2f\")\n",
        "    ratio_2 = format(signal_density_2/sum_signal_density,\".2f\")\n",
        "    ratio_3 = format(signal_density_3/sum_signal_density,\".2f\")\n",
        "    ratio_4 = format(signal_density_4/sum_signal_density,\".2f\")\n",
        "    \n",
        "    print(\"Time For Signal 1 : \" + str(ratio_1))\n",
        "    print(\"Time For Signal 2 : \" + str(ratio_2))\n",
        "    print(\"Time For Signal 3 : \" + str(ratio_3))\n",
        "    print(\"Time For Signal 4 : \" + str(ratio_4))\n",
        "    print()\n",
        "    \n",
        "    # Let us consider that all the Signal Timers need to divided into a ratio such that they add up to a total of 2 min (120 sec)\n",
        "    # Here 2 min is the round time during which a signal is operational atleast once\n",
        "    \n",
        "    \n",
        "    Actual_Time_1 = 120.00 * float(ratio_1)\n",
        "    Actual_Time_2 = 120.00 * float(ratio_2)\n",
        "    Actual_Time_3 = 120.00 * float(ratio_3)\n",
        "    Actual_Time_4 = 120.00 * float(ratio_4)\n",
        "    \n",
        "    print(\"Signal 1 Running For \" + str(Actual_Time_1) + \" Seconds\")\n",
        "    time.sleep(Actual_Time_1);\n",
        "    \n",
        "    print(\"Signal 2 Running For \" + str(Actual_Time_2) + \" Seconds\")\n",
        "    time.sleep(Actual_Time_2);\n",
        "    \n",
        "    print(\"Signal 3 Running For \" + str(Actual_Time_3) + \" Seconds\")\n",
        "    time.sleep(Actual_Time_3);\n",
        "    \n",
        "    print(\"Signal 4 Running For \" + str(Actual_Time_4) + \" Seconds\")\n",
        "    time.sleep(Actual_Time_4);\n",
        "    \n",
        "    print()\n",
        "    "
      ],
      "execution_count": 0,
      "outputs": []
    },
    {
      "cell_type": "code",
      "metadata": {
        "id": "BaLpTt8YPQSs",
        "colab_type": "code",
        "outputId": "2456efe1-4b6b-478c-caa6-b34b9d7a376d",
        "colab": {}
      },
      "source": [
        "# While loop will be used so that the updated traffic density can be taken as inputs\n",
        "\n",
        "i=0\n",
        "\n",
        "while(i==0):\n",
        "    \n",
        "    SignalDensity()"
      ],
      "execution_count": 0,
      "outputs": [
        {
          "output_type": "stream",
          "text": [
            "Density Scale Reading (Signal 1) : 0\n",
            "Density Scale Reading (Signal 2) : 4\n",
            "Density Scale Reading (Signal 3) : 6\n",
            "Density Scale Reading (Signal 4) : 6\n",
            "\n",
            "Time For Signal 1 : 0.00\n",
            "Time For Signal 2 : 0.25\n",
            "Time For Signal 3 : 0.38\n",
            "Time For Signal 4 : 0.38\n",
            "Signal 1 Running For 0.0 Seconds\n",
            "Signal 2 Running For 30.0 Seconds\n",
            "Signal 3 Running For 45.6 Seconds\n",
            "Signal 4 Running For 45.6 Seconds\n",
            "Density Scale Reading (Signal 1) : 5\n",
            "Density Scale Reading (Signal 2) : 8\n",
            "Density Scale Reading (Signal 3) : 6\n",
            "Density Scale Reading (Signal 4) : 2\n",
            "\n",
            "Time For Signal 1 : 0.24\n",
            "Time For Signal 2 : 0.38\n",
            "Time For Signal 3 : 0.29\n",
            "Time For Signal 4 : 0.10\n",
            "Signal 1 Running For 28.799999999999997 Seconds\n",
            "Signal 2 Running For 45.6 Seconds\n"
          ],
          "name": "stdout"
        }
      ]
    },
    {
      "cell_type": "code",
      "metadata": {
        "id": "lSXI7yLOPQS1",
        "colab_type": "code",
        "colab": {}
      },
      "source": [
        ""
      ],
      "execution_count": 0,
      "outputs": []
    }
  ]
}